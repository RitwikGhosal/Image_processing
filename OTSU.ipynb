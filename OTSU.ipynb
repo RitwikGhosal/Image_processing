{
 "cells": [
  {
   "cell_type": "code",
   "execution_count": 11,
   "id": "bb18af23",
   "metadata": {},
   "outputs": [],
   "source": [
    "import numpy as np\n",
    "import cv2\n",
    "import pandas as pd\n",
    "import matplotlib.pyplot as plt"
   ]
  },
  {
   "cell_type": "code",
   "execution_count": 70,
   "id": "9f20573d",
   "metadata": {},
   "outputs": [
    {
     "ename": "AttributeError",
     "evalue": "'numpy.ndarray' object has no attribute 'read'",
     "output_type": "error",
     "traceback": [
      "\u001b[0;31m---------------------------------------------------------------------------\u001b[0m",
      "\u001b[0;31mAttributeError\u001b[0m                            Traceback (most recent call last)",
      "Cell \u001b[0;32mIn[70], line 14\u001b[0m\n\u001b[1;32m     12\u001b[0m \u001b[38;5;28;01mfor\u001b[39;00m i \u001b[38;5;129;01min\u001b[39;00m \u001b[38;5;28mrange\u001b[39m(\u001b[38;5;241m1\u001b[39m,\u001b[38;5;241m50\u001b[39m):\n\u001b[1;32m     13\u001b[0m     im \u001b[38;5;241m=\u001b[39m plt\u001b[38;5;241m.\u001b[39mimread((\u001b[38;5;124m\"\u001b[39m\u001b[38;5;124mim\u001b[39m\u001b[38;5;132;01m{}\u001b[39;00m\u001b[38;5;124m.jpg\u001b[39m\u001b[38;5;124m\"\u001b[39m)\u001b[38;5;241m.\u001b[39mformat(i))\n\u001b[0;32m---> 14\u001b[0m     im_bw \u001b[38;5;241m=\u001b[39m \u001b[43mbinarize\u001b[49m\u001b[43m(\u001b[49m\u001b[43mim\u001b[49m\u001b[43m,\u001b[49m\u001b[43m \u001b[49m\u001b[38;5;241;43m100\u001b[39;49m\u001b[43m)\u001b[49m\n\u001b[1;32m     15\u001b[0m     cv2\u001b[38;5;241m.\u001b[39mimwrite(\u001b[38;5;124m'\u001b[39m\u001b[38;5;124mbinary_im_\u001b[39m\u001b[38;5;132;01m{}\u001b[39;00m\u001b[38;5;124m.png\u001b[39m\u001b[38;5;124m'\u001b[39m\u001b[38;5;241m.\u001b[39mformat(i), im_bw)\n",
      "Cell \u001b[0;32mIn[70], line 2\u001b[0m, in \u001b[0;36mbinarize\u001b[0;34m(im, th)\u001b[0m\n\u001b[1;32m      1\u001b[0m \u001b[38;5;28;01mdef\u001b[39;00m \u001b[38;5;21mbinarize\u001b[39m(im, th):\n\u001b[0;32m----> 2\u001b[0m     img \u001b[38;5;241m=\u001b[39m \u001b[43mplt\u001b[49m\u001b[38;5;241;43m.\u001b[39;49m\u001b[43mimread\u001b[49m\u001b[43m(\u001b[49m\u001b[43mim\u001b[49m\u001b[43m)\u001b[49m\n\u001b[1;32m      3\u001b[0m     \u001b[38;5;28;01mfor\u001b[39;00m x \u001b[38;5;129;01min\u001b[39;00m \u001b[38;5;28mrange\u001b[39m(np\u001b[38;5;241m.\u001b[39mshape(img)[\u001b[38;5;241m0\u001b[39m]):\n\u001b[1;32m      4\u001b[0m         \u001b[38;5;28;01mfor\u001b[39;00m y \u001b[38;5;129;01min\u001b[39;00m \u001b[38;5;28mrange\u001b[39m(np\u001b[38;5;241m.\u001b[39mshape(img)[\u001b[38;5;241m1\u001b[39m]):\n",
      "File \u001b[0;32m~/.local/lib/python3.10/site-packages/matplotlib/pyplot.py:2195\u001b[0m, in \u001b[0;36mimread\u001b[0;34m(fname, format)\u001b[0m\n\u001b[1;32m   2193\u001b[0m \u001b[38;5;129m@_copy_docstring_and_deprecators\u001b[39m(matplotlib\u001b[38;5;241m.\u001b[39mimage\u001b[38;5;241m.\u001b[39mimread)\n\u001b[1;32m   2194\u001b[0m \u001b[38;5;28;01mdef\u001b[39;00m \u001b[38;5;21mimread\u001b[39m(fname, \u001b[38;5;28mformat\u001b[39m\u001b[38;5;241m=\u001b[39m\u001b[38;5;28;01mNone\u001b[39;00m):\n\u001b[0;32m-> 2195\u001b[0m     \u001b[38;5;28;01mreturn\u001b[39;00m \u001b[43mmatplotlib\u001b[49m\u001b[38;5;241;43m.\u001b[39;49m\u001b[43mimage\u001b[49m\u001b[38;5;241;43m.\u001b[39;49m\u001b[43mimread\u001b[49m\u001b[43m(\u001b[49m\u001b[43mfname\u001b[49m\u001b[43m,\u001b[49m\u001b[43m \u001b[49m\u001b[38;5;28;43mformat\u001b[39;49m\u001b[43m)\u001b[49m\n",
      "File \u001b[0;32m~/.local/lib/python3.10/site-packages/matplotlib/image.py:1563\u001b[0m, in \u001b[0;36mimread\u001b[0;34m(fname, format)\u001b[0m\n\u001b[1;32m   1556\u001b[0m \u001b[38;5;28;01mif\u001b[39;00m \u001b[38;5;28misinstance\u001b[39m(fname, \u001b[38;5;28mstr\u001b[39m) \u001b[38;5;129;01mand\u001b[39;00m \u001b[38;5;28mlen\u001b[39m(parse\u001b[38;5;241m.\u001b[39murlparse(fname)\u001b[38;5;241m.\u001b[39mscheme) \u001b[38;5;241m>\u001b[39m \u001b[38;5;241m1\u001b[39m:\n\u001b[1;32m   1557\u001b[0m     \u001b[38;5;66;03m# Pillow doesn't handle URLs directly.\u001b[39;00m\n\u001b[1;32m   1558\u001b[0m     \u001b[38;5;28;01mraise\u001b[39;00m \u001b[38;5;167;01mValueError\u001b[39;00m(\n\u001b[1;32m   1559\u001b[0m         \u001b[38;5;124m\"\u001b[39m\u001b[38;5;124mPlease open the URL for reading and pass the \u001b[39m\u001b[38;5;124m\"\u001b[39m\n\u001b[1;32m   1560\u001b[0m         \u001b[38;5;124m\"\u001b[39m\u001b[38;5;124mresult to Pillow, e.g. with \u001b[39m\u001b[38;5;124m\"\u001b[39m\n\u001b[1;32m   1561\u001b[0m         \u001b[38;5;124m\"\u001b[39m\u001b[38;5;124m``np.array(PIL.Image.open(urllib.request.urlopen(url)))``.\u001b[39m\u001b[38;5;124m\"\u001b[39m\n\u001b[1;32m   1562\u001b[0m         )\n\u001b[0;32m-> 1563\u001b[0m \u001b[38;5;28;01mwith\u001b[39;00m \u001b[43mimg_open\u001b[49m\u001b[43m(\u001b[49m\u001b[43mfname\u001b[49m\u001b[43m)\u001b[49m \u001b[38;5;28;01mas\u001b[39;00m image:\n\u001b[1;32m   1564\u001b[0m     \u001b[38;5;28;01mreturn\u001b[39;00m (_pil_png_to_float_array(image)\n\u001b[1;32m   1565\u001b[0m             \u001b[38;5;28;01mif\u001b[39;00m \u001b[38;5;28misinstance\u001b[39m(image, PIL\u001b[38;5;241m.\u001b[39mPngImagePlugin\u001b[38;5;241m.\u001b[39mPngImageFile) \u001b[38;5;28;01melse\u001b[39;00m\n\u001b[1;32m   1566\u001b[0m             pil_to_array(image))\n",
      "File \u001b[0;32m/usr/lib/python3/dist-packages/PIL/ImageFile.py:112\u001b[0m, in \u001b[0;36mImageFile.__init__\u001b[0;34m(self, fp, filename)\u001b[0m\n\u001b[1;32m    110\u001b[0m \u001b[38;5;28;01mtry\u001b[39;00m:\n\u001b[1;32m    111\u001b[0m     \u001b[38;5;28;01mtry\u001b[39;00m:\n\u001b[0;32m--> 112\u001b[0m         \u001b[38;5;28;43mself\u001b[39;49m\u001b[38;5;241;43m.\u001b[39;49m\u001b[43m_open\u001b[49m\u001b[43m(\u001b[49m\u001b[43m)\u001b[49m\n\u001b[1;32m    113\u001b[0m     \u001b[38;5;28;01mexcept\u001b[39;00m (\n\u001b[1;32m    114\u001b[0m         \u001b[38;5;167;01mIndexError\u001b[39;00m,  \u001b[38;5;66;03m# end of data\u001b[39;00m\n\u001b[1;32m    115\u001b[0m         \u001b[38;5;167;01mTypeError\u001b[39;00m,  \u001b[38;5;66;03m# end of data (ord)\u001b[39;00m\n\u001b[0;32m   (...)\u001b[0m\n\u001b[1;32m    118\u001b[0m         struct\u001b[38;5;241m.\u001b[39merror,\n\u001b[1;32m    119\u001b[0m     ) \u001b[38;5;28;01mas\u001b[39;00m v:\n\u001b[1;32m    120\u001b[0m         \u001b[38;5;28;01mraise\u001b[39;00m \u001b[38;5;167;01mSyntaxError\u001b[39;00m(v) \u001b[38;5;28;01mfrom\u001b[39;00m \u001b[38;5;21;01mv\u001b[39;00m\n",
      "File \u001b[0;32m/usr/lib/python3/dist-packages/PIL/PngImagePlugin.py:675\u001b[0m, in \u001b[0;36mPngImageFile._open\u001b[0;34m(self)\u001b[0m\n\u001b[1;32m    673\u001b[0m \u001b[38;5;28;01mdef\u001b[39;00m \u001b[38;5;21m_open\u001b[39m(\u001b[38;5;28mself\u001b[39m):\n\u001b[0;32m--> 675\u001b[0m     \u001b[38;5;28;01mif\u001b[39;00m \u001b[38;5;129;01mnot\u001b[39;00m _accept(\u001b[38;5;28;43mself\u001b[39;49m\u001b[38;5;241;43m.\u001b[39;49m\u001b[43mfp\u001b[49m\u001b[38;5;241;43m.\u001b[39;49m\u001b[43mread\u001b[49m(\u001b[38;5;241m8\u001b[39m)):\n\u001b[1;32m    676\u001b[0m         \u001b[38;5;28;01mraise\u001b[39;00m \u001b[38;5;167;01mSyntaxError\u001b[39;00m(\u001b[38;5;124m\"\u001b[39m\u001b[38;5;124mnot a PNG file\u001b[39m\u001b[38;5;124m\"\u001b[39m)\n\u001b[1;32m    677\u001b[0m     \u001b[38;5;28mself\u001b[39m\u001b[38;5;241m.\u001b[39m__fp \u001b[38;5;241m=\u001b[39m \u001b[38;5;28mself\u001b[39m\u001b[38;5;241m.\u001b[39mfp\n",
      "\u001b[0;31mAttributeError\u001b[0m: 'numpy.ndarray' object has no attribute 'read'"
     ]
    }
   ],
   "source": [
    "def binarize(im, th):\n",
    "    img = plt.imread(im)\n",
    "    for x in range(np.shape(img)[0]):\n",
    "        for y in range(np.shape(img)[1]):\n",
    "            if img[x,y] > th:\n",
    "                img[x,y] = 255\n",
    "            else:\n",
    "                img[x,y] = 0\n",
    "                \n",
    "    return img\n",
    "\n",
    "for i in range(1,50):\n",
    "    im = plt.imread((\"im{}.jpg\").format(i))\n",
    "    im_bw = binarize(im, 100)\n",
    "    cv2.imwrite('binary_im_{}.png'.format(i), im_bw)"
   ]
  },
  {
   "cell_type": "code",
   "execution_count": 16,
   "id": "ccab0f2d",
   "metadata": {},
   "outputs": [
    {
     "name": "stdout",
     "output_type": "stream",
     "text": [
      "The shape is (512, 512)\n",
      "The shape is (512, 512)\n",
      "The shape is (512, 512)\n",
      "The shape is (512, 512)\n",
      "The shape is (512, 512)\n",
      "The shape is (512, 512)\n",
      "The shape is (512, 512)\n",
      "The shape is (512, 512)\n",
      "The shape is (512, 512)\n",
      "The shape is (512, 512)\n",
      "The shape is (512, 512)\n",
      "The shape is (512, 512)\n",
      "The shape is (512, 512)\n",
      "The shape is (512, 512)\n",
      "The shape is (512, 512)\n",
      "The shape is (512, 512)\n",
      "The shape is (512, 512)\n",
      "The shape is (512, 512)\n",
      "The shape is (512, 512)\n",
      "The shape is (512, 512)\n",
      "The shape is (512, 512)\n",
      "The shape is (512, 512)\n",
      "The shape is (512, 512)\n",
      "The shape is (512, 512)\n",
      "The shape is (512, 512)\n",
      "The shape is (512, 512)\n",
      "The shape is (512, 512)\n",
      "The shape is (512, 512)\n",
      "The shape is (512, 512)\n",
      "The shape is (512, 512)\n",
      "The shape is (512, 512)\n",
      "The shape is (512, 512)\n",
      "The shape is (512, 512)\n",
      "The shape is (512, 512)\n",
      "The shape is (512, 512)\n",
      "The shape is (512, 512)\n",
      "The shape is (512, 512)\n",
      "The shape is (512, 512)\n",
      "The shape is (512, 512)\n",
      "The shape is (512, 512)\n",
      "The shape is (512, 512)\n",
      "The shape is (512, 512)\n",
      "The shape is (512, 512)\n",
      "The shape is (512, 512)\n",
      "The shape is (512, 512)\n",
      "The shape is (512, 512)\n",
      "The shape is (512, 512)\n",
      "The shape is (512, 512)\n",
      "The shape is (512, 512)\n"
     ]
    }
   ],
   "source": [
    "for i in range(1,50):\n",
    "    I = plt.imread(\"binary_im_{}.jpg\".format(i))\n",
    "    print(\"The shape is {}\".format(np.shape(I)))"
   ]
  },
  {
   "cell_type": "code",
   "execution_count": null,
   "id": "bdb0ce5e",
   "metadata": {},
   "outputs": [],
   "source": []
  },
  {
   "cell_type": "code",
   "execution_count": 56,
   "id": "bc03acef",
   "metadata": {},
   "outputs": [
    {
     "data": {
      "text/plain": [
       "'\\nfor i in range(np.shape(I)[0]):\\n    for j in range(np.shape(I)[1]):\\n        if image[i,j] == 1.0:\\n            image[i,j] = 255\\n        else:\\n            image[i,j] = 0\\n'"
      ]
     },
     "execution_count": 56,
     "metadata": {},
     "output_type": "execute_result"
    }
   ],
   "source": [
    "def binarize(im, th):\n",
    "    img = plt.imread(im)\n",
    "    for x in range(np.shape(img)[0]):\n",
    "        for y in range(np.shape(img)[1]):\n",
    "            if img[x,y] > th:\n",
    "                img[x,y] = 255\n",
    "            else:\n",
    "                img[x,y] = 0\n",
    "                \n",
    "    return img\n",
    "\n",
    "\n",
    "\n",
    "#cv2.imwrite(\"binary.png\", I)\n",
    "'''\n",
    "for i in range(np.shape(I)[0]):\n",
    "    for j in range(np.shape(I)[1]):\n",
    "        if image[i,j] == 1.0:\n",
    "            image[i,j] = 255\n",
    "        else:\n",
    "            image[i,j] = 0\n",
    "'''"
   ]
  },
  {
   "cell_type": "code",
   "execution_count": 59,
   "id": "7f2688df",
   "metadata": {},
   "outputs": [
    {
     "data": {
      "text/plain": [
       "True"
      ]
     },
     "execution_count": 59,
     "metadata": {},
     "output_type": "execute_result"
    }
   ],
   "source": [
    "I = binarize(\"im1.jpg\",100)\n",
    "\n",
    "cv2.imwrite(\"bin_im_1.png\",I)"
   ]
  },
  {
   "cell_type": "code",
   "execution_count": 69,
   "id": "8a984c46",
   "metadata": {},
   "outputs": [
    {
     "name": "stdout",
     "output_type": "stream",
     "text": [
      "[102633, 0, 0, 0, 0, 0, 0, 0, 0, 0, 0, 0, 0, 0, 0, 0, 0, 0, 0, 0, 0, 0, 0, 0, 0, 0, 0, 0, 0, 0, 0, 0, 0, 0, 0, 0, 0, 0, 0, 0, 0, 0, 0, 0, 0, 0, 0, 0, 0, 0, 0, 0, 0, 0, 0, 0, 0, 0, 0, 0, 0, 0, 0, 0, 0, 0, 0, 0, 0, 0, 0, 0, 0, 0, 0, 0, 0, 0, 0, 0, 0, 0, 0, 0, 0, 0, 0, 0, 0, 0, 0, 0, 0, 0, 0, 0, 0, 0, 0, 0, 0, 0, 0, 0, 0, 0, 0, 0, 0, 0, 0, 0, 0, 0, 0, 0, 0, 0, 0, 0, 0, 0, 0, 0, 0, 0, 0, 0, 0, 0, 0, 0, 0, 0, 0, 0, 0, 0, 0, 0, 0, 0, 0, 0, 0, 0, 0, 0, 0, 0, 0, 0, 0, 0, 0, 0, 0, 0, 0, 0, 0, 0, 0, 0, 0, 0, 0, 0, 0, 0, 0, 0, 0, 0, 0, 0, 0, 0, 0, 0, 0, 0, 0, 0, 0, 0, 0, 0, 0, 0, 0, 0, 0, 0, 0, 0, 0, 0, 0, 0, 0, 0, 0, 0, 0, 0, 0, 0, 0, 0, 0, 0, 0, 0, 0, 0, 0, 0, 0, 0, 0, 0, 0, 0, 0, 0, 0, 0, 0, 0, 0, 0, 0, 0, 0, 0, 0, 0, 0, 0, 0, 0, 0, 0, 0, 0, 0, 0, 0, 0, 0, 0, 0, 0, 0, 159511]\n"
     ]
    }
   ],
   "source": [
    "#image_1 = cv2.imread(\"bin_im_1.png\",cv2.IMREAD_GRAYSCALE)\n",
    "#unique_elements = np.unique(image_1)\n",
    "#print(unique_elements)\n",
    "#image_1\n",
    "\n",
    "def hist_img(image):\n",
    "     \n",
    "    img = cv2.imread(image,cv2.IMREAD_GRAYSCALE) \n",
    "    h = [0] * 256\n",
    "    a = np.arange(0,256,1)\n",
    "    for x in range(np.shape(img)[0]):\n",
    "        for y in range(np.shape(img)[1]):\n",
    "            i = img[x,y]\n",
    "            h[i] = h[i] + 1\n",
    "\n",
    "    return print(h)\n",
    "\n",
    "hist_img(\"bin_im_1.png\")"
   ]
  },
  {
   "cell_type": "code",
   "execution_count": null,
   "id": "bb69e72d",
   "metadata": {},
   "outputs": [],
   "source": []
  },
  {
   "cell_type": "code",
   "execution_count": 46,
   "id": "48e2826a",
   "metadata": {},
   "outputs": [
    {
     "data": {
      "text/plain": [
       "True"
      ]
     },
     "execution_count": 46,
     "metadata": {},
     "output_type": "execute_result"
    }
   ],
   "source": [
    "#img = plt.imread(image) \n",
    "image = plt.imread(\"binary.png\")\n",
    "\n",
    "uint8_image = cv2.convertScaleAbs(image * 255)\n",
    "\n",
    "cv2.imwrite(\"converted_image.png\", uint8_image)"
   ]
  },
  {
   "cell_type": "code",
   "execution_count": 51,
   "id": "30d1eaee",
   "metadata": {},
   "outputs": [
    {
     "ename": "TypeError",
     "evalue": "only integer scalar arrays can be converted to a scalar index",
     "output_type": "error",
     "traceback": [
      "\u001b[0;31m---------------------------------------------------------------------------\u001b[0m",
      "\u001b[0;31mTypeError\u001b[0m                                 Traceback (most recent call last)",
      "Cell \u001b[0;32mIn[51], line 16\u001b[0m\n\u001b[1;32m     12\u001b[0m             h[i] \u001b[38;5;241m=\u001b[39m h[i] \u001b[38;5;241m+\u001b[39m \u001b[38;5;241m1\u001b[39m\n\u001b[1;32m     14\u001b[0m     \u001b[38;5;28;01mreturn\u001b[39;00m \u001b[38;5;28mprint\u001b[39m(h)\n\u001b[0;32m---> 16\u001b[0m \u001b[43mhist_img\u001b[49m\u001b[43m(\u001b[49m\u001b[38;5;124;43m\"\u001b[39;49m\u001b[38;5;124;43mconverted_image.png\u001b[39;49m\u001b[38;5;124;43m\"\u001b[39;49m\u001b[43m)\u001b[49m\n",
      "Cell \u001b[0;32mIn[51], line 12\u001b[0m, in \u001b[0;36mhist_img\u001b[0;34m(image)\u001b[0m\n\u001b[1;32m     10\u001b[0m     \u001b[38;5;28;01mfor\u001b[39;00m y \u001b[38;5;129;01min\u001b[39;00m \u001b[38;5;28mrange\u001b[39m(np\u001b[38;5;241m.\u001b[39mshape(img)[\u001b[38;5;241m1\u001b[39m]):\n\u001b[1;32m     11\u001b[0m         i \u001b[38;5;241m=\u001b[39m img[x,y]\n\u001b[0;32m---> 12\u001b[0m         h[i] \u001b[38;5;241m=\u001b[39m \u001b[43mh\u001b[49m\u001b[43m[\u001b[49m\u001b[43mi\u001b[49m\u001b[43m]\u001b[49m \u001b[38;5;241m+\u001b[39m \u001b[38;5;241m1\u001b[39m\n\u001b[1;32m     14\u001b[0m \u001b[38;5;28;01mreturn\u001b[39;00m \u001b[38;5;28mprint\u001b[39m(h)\n",
      "\u001b[0;31mTypeError\u001b[0m: only integer scalar arrays can be converted to a scalar index"
     ]
    }
   ],
   "source": [
    "#Image_c = cv2.imread(\"converted_image.png\")\n",
    "#Image_c\n",
    "# Convert the float32 image to uint8 in the range of 0 to 255\n"
   ]
  },
  {
   "cell_type": "code",
   "execution_count": 54,
   "id": "24a795f9",
   "metadata": {},
   "outputs": [
    {
     "data": {
      "text/plain": [
       "1.0"
      ]
     },
     "execution_count": 54,
     "metadata": {},
     "output_type": "execute_result"
    }
   ],
   "source": [
    "i =cv2.imread(\"converted_image.png\",cv2.IMREAD_GRAYSCALE)\n",
    "i[2,3]"
   ]
  },
  {
   "cell_type": "code",
   "execution_count": null,
   "id": "9914e515",
   "metadata": {},
   "outputs": [],
   "source": [
    "h = [0] * 256\n",
    "a = np.arange(0,256,1)\n",
    "for x in range(np.shape(image)[0]):\n",
    "    for y in range(np.shape(image)[1]):\n",
    "        i = image[x,y]\n",
    "        h[i] = h[i] + 1\n",
    "print(h)\n",
    "#return print(h)"
   ]
  }
 ],
 "metadata": {
  "kernelspec": {
   "display_name": "Python 3 (ipykernel)",
   "language": "python",
   "name": "python3"
  },
  "language_info": {
   "codemirror_mode": {
    "name": "ipython",
    "version": 3
   },
   "file_extension": ".py",
   "mimetype": "text/x-python",
   "name": "python",
   "nbconvert_exporter": "python",
   "pygments_lexer": "ipython3",
   "version": "3.10.6"
  }
 },
 "nbformat": 4,
 "nbformat_minor": 5
}
