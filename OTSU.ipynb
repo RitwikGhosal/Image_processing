{
 "cells": [
  {
   "cell_type": "code",
   "execution_count": 73,
   "id": "06e8b61f",
   "metadata": {},
   "outputs": [],
   "source": [
    "import numpy as np\n",
    "import cv2\n",
    "import pandas as pd\n",
    "import matplotlib.pyplot as plt"
   ]
  },
  {
   "cell_type": "code",
   "execution_count": 75,
   "id": "8ebdbd09",
   "metadata": {},
   "outputs": [],
   "source": [
    "def binarize(im, th):\n",
    "    for x in range(np.shape(im)[0]):\n",
    "        for y in range(np.shape(im)[1]):\n",
    "            if im[x,y] > th:\n",
    "                im[x,y] = 255\n",
    "            else:\n",
    "                im[x,y] = 0\n",
    "            \n",
    "    return im\n",
    "\n",
    "for i in range(1,50):\n",
    "    im = plt.imread((\"im{}.jpg\").format(i))\n",
    "    im_bw = binarize(im, 100)\n",
    "    cv2.imwrite('binary_im_{}.png'.format(i), im_bw)"
   ]
  },
  {
   "cell_type": "code",
   "execution_count": 77,
   "id": "e43d07cc",
   "metadata": {},
   "outputs": [
    {
     "name": "stdout",
     "output_type": "stream",
     "text": [
      "The shape is (512, 512)\n",
      "The shape is (512, 512)\n",
      "The shape is (512, 512)\n",
      "The shape is (512, 512)\n",
      "The shape is (512, 512)\n",
      "The shape is (512, 512)\n",
      "The shape is (512, 512)\n",
      "The shape is (512, 512)\n",
      "The shape is (512, 512)\n",
      "The shape is (512, 512)\n",
      "The shape is (512, 512)\n",
      "The shape is (512, 512)\n",
      "The shape is (512, 512)\n",
      "The shape is (512, 512)\n",
      "The shape is (512, 512)\n",
      "The shape is (512, 512)\n",
      "The shape is (512, 512)\n",
      "The shape is (512, 512)\n",
      "The shape is (512, 512)\n",
      "The shape is (512, 512)\n",
      "The shape is (512, 512)\n",
      "The shape is (512, 512)\n",
      "The shape is (512, 512)\n",
      "The shape is (512, 512)\n",
      "The shape is (512, 512)\n",
      "The shape is (512, 512)\n",
      "The shape is (512, 512)\n",
      "The shape is (512, 512)\n",
      "The shape is (512, 512)\n",
      "The shape is (512, 512)\n",
      "The shape is (512, 512)\n",
      "The shape is (512, 512)\n",
      "The shape is (512, 512)\n",
      "The shape is (512, 512)\n",
      "The shape is (512, 512)\n",
      "The shape is (512, 512)\n",
      "The shape is (512, 512)\n",
      "The shape is (512, 512)\n",
      "The shape is (512, 512)\n",
      "The shape is (512, 512)\n",
      "The shape is (512, 512)\n",
      "The shape is (512, 512)\n",
      "The shape is (512, 512)\n",
      "The shape is (512, 512)\n",
      "The shape is (512, 512)\n",
      "The shape is (512, 512)\n",
      "The shape is (512, 512)\n",
      "The shape is (512, 512)\n",
      "The shape is (512, 512)\n"
     ]
    }
   ],
   "source": [
    "for i in range(1,50):\n",
    "    I = plt.imread(\"binary_im_{}.png\".format(i))\n",
    "    print(\"The shape is {}\".format(np.shape(I)))"
   ]
  },
  {
   "cell_type": "code",
   "execution_count": 79,
   "id": "cd44cabb",
   "metadata": {},
   "outputs": [
    {
     "data": {
      "text/plain": [
       "array([[255, 255, 255, ...,   0,   0,   0],\n",
       "       [255, 255, 255, ...,   0,   0,   0],\n",
       "       [255, 255, 255, ...,   0,   0,   0],\n",
       "       ...,\n",
       "       [255, 255, 255, ..., 255, 255, 255],\n",
       "       [255, 255, 255, ..., 255, 255, 255],\n",
       "       [255, 255, 255, ..., 255, 255, 255]], dtype=uint8)"
      ]
     },
     "execution_count": 79,
     "metadata": {},
     "output_type": "execute_result"
    }
   ],
   "source": [
    "I = cv2.imread(\"binary_im_5.png\", cv2.IMREAD_GRAYSCALE)\n",
    "I"
   ]
  },
  {
   "cell_type": "code",
   "execution_count": 56,
   "id": "3388c3d9",
   "metadata": {},
   "outputs": [
    {
     "data": {
      "text/plain": [
       "'\\nfor i in range(np.shape(I)[0]):\\n    for j in range(np.shape(I)[1]):\\n        if image[i,j] == 1.0:\\n            image[i,j] = 255\\n        else:\\n            image[i,j] = 0\\n'"
      ]
     },
     "execution_count": 56,
     "metadata": {},
     "output_type": "execute_result"
    }
   ],
   "source": [
    "def binarize(im, th):\n",
    "    img = plt.imread(im)\n",
    "    for x in range(np.shape(img)[0]):\n",
    "        for y in range(np.shape(img)[1]):\n",
    "            if img[x,y] > th:\n",
    "                img[x,y] = 255\n",
    "            else:\n",
    "                img[x,y] = 0\n",
    "                \n",
    "    return img\n",
    "\n",
    "\n",
    "\n",
    "#cv2.imwrite(\"binary.png\", I)\n",
    "'''\n",
    "for i in range(np.shape(I)[0]):\n",
    "    for j in range(np.shape(I)[1]):\n",
    "        if image[i,j] == 1.0:\n",
    "            image[i,j] = 255\n",
    "        else:\n",
    "            image[i,j] = 0\n",
    "'''"
   ]
  },
  {
   "cell_type": "code",
   "execution_count": 59,
   "id": "b89f2153",
   "metadata": {},
   "outputs": [
    {
     "data": {
      "text/plain": [
       "True"
      ]
     },
     "execution_count": 59,
     "metadata": {},
     "output_type": "execute_result"
    }
   ],
   "source": [
    "I = binarize(\"im1.jpg\",100)\n",
    "\n",
    "cv2.imwrite(\"bin_im_1.png\",I)"
   ]
  },
  {
   "cell_type": "code",
   "execution_count": 83,
   "id": "975633bd",
   "metadata": {},
   "outputs": [
    {
     "name": "stdout",
     "output_type": "stream",
     "text": [
      "[61140, 0, 0, 0, 0, 0, 0, 0, 0, 0, 0, 0, 0, 0, 0, 0, 0, 0, 0, 0, 0, 0, 0, 0, 0, 0, 0, 0, 0, 0, 0, 0, 0, 0, 0, 0, 0, 0, 0, 0, 0, 0, 0, 0, 0, 0, 0, 0, 0, 0, 0, 0, 0, 0, 0, 0, 0, 0, 0, 0, 0, 0, 0, 0, 0, 0, 0, 0, 0, 0, 0, 0, 0, 0, 0, 0, 0, 0, 0, 0, 0, 0, 0, 0, 0, 0, 0, 0, 0, 0, 0, 0, 0, 0, 0, 0, 0, 0, 0, 0, 0, 0, 0, 0, 0, 0, 0, 0, 0, 0, 0, 0, 0, 0, 0, 0, 0, 0, 0, 0, 0, 0, 0, 0, 0, 0, 0, 0, 0, 0, 0, 0, 0, 0, 0, 0, 0, 0, 0, 0, 0, 0, 0, 0, 0, 0, 0, 0, 0, 0, 0, 0, 0, 0, 0, 0, 0, 0, 0, 0, 0, 0, 0, 0, 0, 0, 0, 0, 0, 0, 0, 0, 0, 0, 0, 0, 0, 0, 0, 0, 0, 0, 0, 0, 0, 0, 0, 0, 0, 0, 0, 0, 0, 0, 0, 0, 0, 0, 0, 0, 0, 0, 0, 0, 0, 0, 0, 0, 0, 0, 0, 0, 0, 0, 0, 0, 0, 0, 0, 0, 0, 0, 0, 0, 0, 0, 0, 0, 0, 0, 0, 0, 0, 0, 0, 0, 0, 0, 0, 0, 0, 0, 0, 0, 0, 0, 0, 0, 0, 0, 0, 0, 0, 0, 0, 201004]\n"
     ]
    }
   ],
   "source": [
    "#image_1 = cv2.imread(\"bin_im_1.png\",cv2.IMREAD_GRAYSCALE)\n",
    "#unique_elements = np.unique(image_1)\n",
    "#print(unique_elements)\n",
    "#image_1\n",
    "\n",
    "def hist_img(image):\n",
    "     \n",
    "    img = cv2.imread(image,cv2.IMREAD_GRAYSCALE) \n",
    "    h = [0] * 256\n",
    "    a = np.arange(0,256,1)\n",
    "    for x in range(np.shape(img)[0]):\n",
    "        for y in range(np.shape(img)[1]):\n",
    "            i = img[x,y]\n",
    "            h[i] = h[i] + 1\n",
    "\n",
    "    return print(h)\n",
    "\n",
    "hist_img(\"binary_im_48.png\")"
   ]
  },
  {
   "cell_type": "code",
   "execution_count": null,
   "id": "b75c98ec",
   "metadata": {},
   "outputs": [],
   "source": []
  },
  {
   "cell_type": "code",
   "execution_count": 46,
   "id": "4a4e6215",
   "metadata": {},
   "outputs": [
    {
     "data": {
      "text/plain": [
       "True"
      ]
     },
     "execution_count": 46,
     "metadata": {},
     "output_type": "execute_result"
    }
   ],
   "source": [
    "#img = plt.imread(image) \n",
    "image = plt.imread(\"binary.png\")\n",
    "\n",
    "uint8_image = cv2.convertScaleAbs(image * 255)\n",
    "\n",
    "cv2.imwrite(\"converted_image.png\", uint8_image)"
   ]
  },
  {
   "cell_type": "code",
   "execution_count": 51,
   "id": "71611fbf",
   "metadata": {},
   "outputs": [
    {
     "ename": "TypeError",
     "evalue": "only integer scalar arrays can be converted to a scalar index",
     "output_type": "error",
     "traceback": [
      "\u001b[0;31m---------------------------------------------------------------------------\u001b[0m",
      "\u001b[0;31mTypeError\u001b[0m                                 Traceback (most recent call last)",
      "Cell \u001b[0;32mIn[51], line 16\u001b[0m\n\u001b[1;32m     12\u001b[0m             h[i] \u001b[38;5;241m=\u001b[39m h[i] \u001b[38;5;241m+\u001b[39m \u001b[38;5;241m1\u001b[39m\n\u001b[1;32m     14\u001b[0m     \u001b[38;5;28;01mreturn\u001b[39;00m \u001b[38;5;28mprint\u001b[39m(h)\n\u001b[0;32m---> 16\u001b[0m \u001b[43mhist_img\u001b[49m\u001b[43m(\u001b[49m\u001b[38;5;124;43m\"\u001b[39;49m\u001b[38;5;124;43mconverted_image.png\u001b[39;49m\u001b[38;5;124;43m\"\u001b[39;49m\u001b[43m)\u001b[49m\n",
      "Cell \u001b[0;32mIn[51], line 12\u001b[0m, in \u001b[0;36mhist_img\u001b[0;34m(image)\u001b[0m\n\u001b[1;32m     10\u001b[0m     \u001b[38;5;28;01mfor\u001b[39;00m y \u001b[38;5;129;01min\u001b[39;00m \u001b[38;5;28mrange\u001b[39m(np\u001b[38;5;241m.\u001b[39mshape(img)[\u001b[38;5;241m1\u001b[39m]):\n\u001b[1;32m     11\u001b[0m         i \u001b[38;5;241m=\u001b[39m img[x,y]\n\u001b[0;32m---> 12\u001b[0m         h[i] \u001b[38;5;241m=\u001b[39m \u001b[43mh\u001b[49m\u001b[43m[\u001b[49m\u001b[43mi\u001b[49m\u001b[43m]\u001b[49m \u001b[38;5;241m+\u001b[39m \u001b[38;5;241m1\u001b[39m\n\u001b[1;32m     14\u001b[0m \u001b[38;5;28;01mreturn\u001b[39;00m \u001b[38;5;28mprint\u001b[39m(h)\n",
      "\u001b[0;31mTypeError\u001b[0m: only integer scalar arrays can be converted to a scalar index"
     ]
    }
   ],
   "source": [
    "#Image_c = cv2.imread(\"converted_image.png\")\n",
    "#Image_c\n",
    "# Convert the float32 image to uint8 in the range of 0 to 255\n"
   ]
  },
  {
   "cell_type": "code",
   "execution_count": 54,
   "id": "50bbbe2a",
   "metadata": {},
   "outputs": [
    {
     "data": {
      "text/plain": [
       "1.0"
      ]
     },
     "execution_count": 54,
     "metadata": {},
     "output_type": "execute_result"
    }
   ],
   "source": [
    "i =cv2.imread(\"converted_image.png\",cv2.IMREAD_GRAYSCALE)\n",
    "i[2,3]"
   ]
  },
  {
   "cell_type": "code",
   "execution_count": null,
   "id": "eb711b4d",
   "metadata": {},
   "outputs": [],
   "source": [
    "h = [0] * 256\n",
    "a = np.arange(0,256,1)\n",
    "for x in range(np.shape(image)[0]):\n",
    "    for y in range(np.shape(image)[1]):\n",
    "        i = image[x,y]\n",
    "        h[i] = h[i] + 1\n",
    "print(h)\n",
    "#return print(h)"
   ]
  }
 ],
 "metadata": {
  "kernelspec": {
   "display_name": "Python 3 (ipykernel)",
   "language": "python",
   "name": "python3"
  },
  "language_info": {
   "codemirror_mode": {
    "name": "ipython",
    "version": 3
   },
   "file_extension": ".py",
   "mimetype": "text/x-python",
   "name": "python",
   "nbconvert_exporter": "python",
   "pygments_lexer": "ipython3",
   "version": "3.10.6"
  }
 },
 "nbformat": 4,
 "nbformat_minor": 5
}
