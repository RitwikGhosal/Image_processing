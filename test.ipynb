{
 "cells": [
  {
   "cell_type": "code",
   "execution_count": 29,
   "id": "07df4364",
   "metadata": {},
   "outputs": [],
   "source": [
    "from matplotlib import pyplot as plt\n",
    "import matplotlib.image as img\n",
    "import numpy as np\n",
    "import os\n",
    "import array as arr\n",
    "#import webcolors\n",
    "import cv2"
   ]
  },
  {
   "cell_type": "code",
   "execution_count": 30,
   "id": "0821d964",
   "metadata": {},
   "outputs": [
    {
     "name": "stdout",
     "output_type": "stream",
     "text": [
      "Defaulting to user installation because normal site-packages is not writeable\n",
      "Requirement already satisfied: opencv-python in /home/ritwik/.local/lib/python3.10/site-packages (4.7.0.72)\n",
      "Requirement already satisfied: numpy>=1.17.0 in /home/ritwik/.local/lib/python3.10/site-packages (from opencv-python) (1.25.0)\n",
      "Note: you may need to restart the kernel to use updated packages.\n"
     ]
    }
   ],
   "source": [
    "pip install opencv-python\n"
   ]
  },
  {
   "cell_type": "code",
   "execution_count": 41,
   "id": "9fe3ee4b",
   "metadata": {},
   "outputs": [],
   "source": [
    "I = plt.imread(\"checker.jpg\")"
   ]
  },
  {
   "cell_type": "code",
   "execution_count": 42,
   "id": "c6150b8d",
   "metadata": {},
   "outputs": [
    {
     "data": {
      "text/plain": [
       "(16, 16, 3)"
      ]
     },
     "execution_count": 42,
     "metadata": {},
     "output_type": "execute_result"
    }
   ],
   "source": [
    "np.shape(I)"
   ]
  },
  {
   "cell_type": "code",
   "execution_count": 39,
   "id": "a6466d30",
   "metadata": {},
   "outputs": [
    {
     "ename": "TypeError",
     "evalue": "only integer scalar arrays can be converted to a scalar index",
     "output_type": "error",
     "traceback": [
      "\u001b[0;31m---------------------------------------------------------------------------\u001b[0m",
      "\u001b[0;31mTypeError\u001b[0m                                 Traceback (most recent call last)",
      "Cell \u001b[0;32mIn[39], line 13\u001b[0m\n\u001b[1;32m      9\u001b[0m             h[i] \u001b[38;5;241m=\u001b[39m h[i] \u001b[38;5;241m+\u001b[39m \u001b[38;5;241m1\u001b[39m\n\u001b[1;32m     11\u001b[0m     \u001b[38;5;28;01mreturn\u001b[39;00m \u001b[38;5;28mprint\u001b[39m(h)\n\u001b[0;32m---> 13\u001b[0m \u001b[43mhist_img\u001b[49m\u001b[43m(\u001b[49m\u001b[38;5;124;43m\"\u001b[39;49m\u001b[38;5;124;43mchecker.jpg\u001b[39;49m\u001b[38;5;124;43m\"\u001b[39;49m\u001b[43m)\u001b[49m\n",
      "Cell \u001b[0;32mIn[39], line 9\u001b[0m, in \u001b[0;36mhist_img\u001b[0;34m(image)\u001b[0m\n\u001b[1;32m      7\u001b[0m     \u001b[38;5;28;01mfor\u001b[39;00m y \u001b[38;5;129;01min\u001b[39;00m \u001b[38;5;28mrange\u001b[39m(np\u001b[38;5;241m.\u001b[39mshape(img)[\u001b[38;5;241m1\u001b[39m]):\n\u001b[1;32m      8\u001b[0m         i \u001b[38;5;241m=\u001b[39m img[x,y]\n\u001b[0;32m----> 9\u001b[0m         h[i] \u001b[38;5;241m=\u001b[39m \u001b[43mh\u001b[49m\u001b[43m[\u001b[49m\u001b[43mi\u001b[49m\u001b[43m]\u001b[49m \u001b[38;5;241m+\u001b[39m \u001b[38;5;241m1\u001b[39m\n\u001b[1;32m     11\u001b[0m \u001b[38;5;28;01mreturn\u001b[39;00m \u001b[38;5;28mprint\u001b[39m(h)\n",
      "\u001b[0;31mTypeError\u001b[0m: only integer scalar arrays can be converted to a scalar index"
     ]
    }
   ],
   "source": [
    "def hist_img(image):\n",
    "     \n",
    "    img = plt.imread(image) \n",
    "    h = [0] * 256\n",
    "    a = np.arange(0,256,1)\n",
    "    for x in range(np.shape(img)[0]):\n",
    "        for y in range(np.shape(img)[1]):\n",
    "            i = img[x,y]\n",
    "            h[i] = h[i] + 1\n",
    "\n",
    "    return print(h)\n",
    "\n",
    "hist_img(\"checker.jpg\")"
   ]
  },
  {
   "cell_type": "code",
   "execution_count": 20,
   "id": "1de59193",
   "metadata": {},
   "outputs": [
    {
     "ename": "NameError",
     "evalue": "name 'h' is not defined",
     "output_type": "error",
     "traceback": [
      "\u001b[0;31m---------------------------------------------------------------------------\u001b[0m",
      "\u001b[0;31mNameError\u001b[0m                                 Traceback (most recent call last)",
      "Cell \u001b[0;32mIn[20], line 1\u001b[0m\n\u001b[0;32m----> 1\u001b[0m \u001b[43mh\u001b[49m\n",
      "\u001b[0;31mNameError\u001b[0m: name 'h' is not defined"
     ]
    }
   ],
   "source": []
  },
  {
   "cell_type": "code",
   "execution_count": 14,
   "id": "297c9411",
   "metadata": {},
   "outputs": [
    {
     "data": {
      "text/plain": [
       "['example_util.o',\n",
       " 'Makefile.am',\n",
       " 'setup.jpg',\n",
       " 'gif2webp-gif2webp.o',\n",
       " 'anim_util.c',\n",
       " 'gif2webp',\n",
       " 'checker_100.webp',\n",
       " 'anim_dump-gifdec.o',\n",
       " 'cwebp.c',\n",
       " 'cwebp.o',\n",
       " 'img2webp',\n",
       " 'checker.jpg',\n",
       " 'anim_util.h',\n",
       " 'webpinfo',\n",
       " 'binarized_mnist.png',\n",
       " 'gif2webp.c',\n",
       " 'dwebp',\n",
       " 'setup_100.webp',\n",
       " 'libexample_util.a',\n",
       " 'anim_diff-gifdec.o',\n",
       " 'anim_diff-anim_util.o',\n",
       " 'webpinfo-webpinfo.o',\n",
       " 'smiley_100.webp',\n",
       " 'example_util.lo',\n",
       " 'webpmux-webpmux.o',\n",
       " 'binary_im_2_100.webp',\n",
       " '-checker_100.webp',\n",
       " 'gif2webp-gifdec.o',\n",
       " 'libexample_util.la',\n",
       " 'anim_diff.c',\n",
       " 'binary_im_1_100.webp',\n",
       " 'gifdec.h',\n",
       " 'binarized_mnist_100.webp',\n",
       " 'test.webp',\n",
       " 'anim_dump',\n",
       " 'webpinfo.c',\n",
       " 'unicode.h',\n",
       " 'dwebp.c',\n",
       " 'anim_dump-anim_dump.o',\n",
       " 'img2webp.c',\n",
       " 'anim_diff',\n",
       " 'gifdec.c',\n",
       " 'cwebp-cwebp.o',\n",
       " 'dwebp-dwebp.o',\n",
       " 'webpmux',\n",
       " 'webpmux.c',\n",
       " 'anim_dump-anim_util.o',\n",
       " 'test_ref.ppm',\n",
       " '.libs',\n",
       " 'unicode_gif.h',\n",
       " 'dwebp.o',\n",
       " 'Makefile.in',\n",
       " 'stopwatch.h',\n",
       " 'anim_diff-anim_diff.o',\n",
       " 'anim_dump.c',\n",
       " 'binary_im_1.jpg',\n",
       " 'binary_im_2.jpg',\n",
       " 'test.ipynb',\n",
       " 'Makefile',\n",
       " 'Android.mk',\n",
       " 'smiley.png',\n",
       " 'vwebp.c',\n",
       " 'example_util.h',\n",
       " 'img2webp-img2webp.o',\n",
       " 'example_util.c',\n",
       " '.ipynb_checkpoints',\n",
       " '.deps',\n",
       " 'cwebp']"
      ]
     },
     "execution_count": 14,
     "metadata": {},
     "output_type": "execute_result"
    }
   ],
   "source": [
    "os.listdir()\n"
   ]
  },
  {
   "cell_type": "code",
   "execution_count": null,
   "id": "6a9aac0d",
   "metadata": {},
   "outputs": [],
   "source": []
  }
 ],
 "metadata": {
  "kernelspec": {
   "display_name": "Python 3 (ipykernel)",
   "language": "python",
   "name": "python3"
  },
  "language_info": {
   "codemirror_mode": {
    "name": "ipython",
    "version": 3
   },
   "file_extension": ".py",
   "mimetype": "text/x-python",
   "name": "python",
   "nbconvert_exporter": "python",
   "pygments_lexer": "ipython3",
   "version": "3.10.6"
  }
 },
 "nbformat": 4,
 "nbformat_minor": 5
}
