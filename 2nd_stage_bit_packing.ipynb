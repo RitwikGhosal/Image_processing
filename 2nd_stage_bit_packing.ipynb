{
 "cells": [
  {
   "cell_type": "code",
   "execution_count": 3,
   "id": "ff2b494e",
   "metadata": {},
   "outputs": [],
   "source": [
    "import cv2\n",
    "import matplotlib.pyplot as plt\n",
    "import numpy as np\n",
    "import pandas as pd\n",
    "import os\n",
    "from PIL import Image, ImageDraw"
   ]
  },
  {
   "cell_type": "code",
   "execution_count": 72,
   "id": "07afcdce",
   "metadata": {},
   "outputs": [],
   "source": [
    "#Reading the image----------------\n",
    "\n",
    "I_1 = cv2.imread('64_plus.png', cv2.IMREAD_GRAYSCALE)\n",
    "cv2.namedWindow(\"Resize\", cv2.WINDOW_NORMAL)\n",
    "cv2.resizeWindow(\"Resize\", 700, 700)\n",
    "cv2.imshow('Resize', I_1)\n",
    "cv2.waitKey(2000)\n",
    "cv2.destroyAllWindows()"
   ]
  },
  {
   "cell_type": "code",
   "execution_count": 73,
   "id": "5d6b79c9",
   "metadata": {},
   "outputs": [],
   "source": [
    "#converting the grayscale image to RGBA format-------\n",
    "\n",
    "rgba_im = cv2.cvtColor(I_1, cv2.COLOR_GRAY2RGBA)"
   ]
  },
  {
   "cell_type": "code",
   "execution_count": 74,
   "id": "832e6bcc",
   "metadata": {},
   "outputs": [],
   "source": [
    "def convert(list):\n",
    "\n",
    "    s = [str(i) for i in list]\n",
    "    res = int(\"\".join(s)) \n",
    "    return(res)"
   ]
  },
  {
   "cell_type": "code",
   "execution_count": 75,
   "id": "ef1a574c",
   "metadata": {},
   "outputs": [],
   "source": [
    "rgba_tmp = np.zeros((64,64)).astype(int)"
   ]
  },
  {
   "cell_type": "code",
   "execution_count": 76,
   "id": "ddcf3158",
   "metadata": {},
   "outputs": [],
   "source": [
    "#Creating a Palatte and mapping them------------\n",
    "\n",
    "Palette = [[0,0,0,255], [255,255,255,255]]\n",
    "num_row = np.shape(rgba_im)[0]\n",
    "num_col = np.shape(rgba_im)[1]\n",
    "\n",
    "for i in range(num_row):\n",
    "    for j in range(num_col):\n",
    "        if convert(rgba_im[i,j]) == convert(Palette[0]):\n",
    "            rgba_tmp[i,j] = 0\n",
    "        else:\n",
    "            rgba_tmp[i,j] = 1"
   ]
  },
  {
   "cell_type": "code",
   "execution_count": 77,
   "id": "9de17244",
   "metadata": {},
   "outputs": [
    {
     "data": {
      "text/plain": [
       "array([[0, 0, 0, ..., 0, 0, 0],\n",
       "       [0, 0, 0, ..., 0, 0, 0],\n",
       "       [0, 0, 0, ..., 0, 0, 0],\n",
       "       ...,\n",
       "       [0, 0, 0, ..., 0, 0, 0],\n",
       "       [0, 0, 0, ..., 0, 0, 0],\n",
       "       [0, 0, 0, ..., 0, 0, 0]])"
      ]
     },
     "execution_count": 77,
     "metadata": {},
     "output_type": "execute_result"
    }
   ],
   "source": [
    "rgba_tmp"
   ]
  },
  {
   "cell_type": "code",
   "execution_count": 78,
   "id": "2f5c9117",
   "metadata": {},
   "outputs": [
    {
     "data": {
      "text/plain": [
       "array([[0, 0, 0, ..., 0, 0, 0],\n",
       "       [0, 0, 0, ..., 0, 0, 0],\n",
       "       [0, 0, 0, ..., 0, 0, 0],\n",
       "       ...,\n",
       "       [0, 0, 0, ..., 0, 0, 0],\n",
       "       [0, 0, 0, ..., 0, 0, 0],\n",
       "       [0, 0, 0, ..., 0, 0, 0]])"
      ]
     },
     "execution_count": 78,
     "metadata": {},
     "output_type": "execute_result"
    }
   ],
   "source": [
    "for k in range(num_row):\n",
    "    for i in range(num_col):\n",
    "        rgba_tmp[k,i] = rgba_tmp[k,i] << 7\n",
    "        \n",
    "rgba_tmp"
   ]
  },
  {
   "cell_type": "code",
   "execution_count": 79,
   "id": "b4c91a4e",
   "metadata": {},
   "outputs": [],
   "source": [
    "recon_im = np.zeros((64, 8, 4), dtype=np.uint8)\n",
    "for i in range(64):\n",
    "    for j in range(8):\n",
    "        recon_im[i,j,3] = 255"
   ]
  },
  {
   "cell_type": "code",
   "execution_count": 80,
   "id": "01bc9399",
   "metadata": {},
   "outputs": [
    {
     "data": {
      "text/plain": [
       "True"
      ]
     },
     "execution_count": 80,
     "metadata": {},
     "output_type": "execute_result"
    }
   ],
   "source": [
    "#bit packing------------------------------------------\n",
    "#np.shape(rgba_tmp)\n",
    "rows = np.shape(rgba_tmp)[0]\n",
    "columns = np.shape(rgba_tmp)[1]\n",
    "\n",
    "for i in range(rows):\n",
    "    for j in range(0,columns,8):\n",
    "        arr = []\n",
    "        k = 0\n",
    "        while(k<8):\n",
    "            arr.append(np.binary_repr(rgba_tmp[i,j+k],width = 8)[0])\n",
    "            k = k+1\n",
    "        #print(arr)    \n",
    "        rev_arr = []\n",
    "        m = 7\n",
    "        while(m>=0):\n",
    "            rev_arr.append(arr[m])\n",
    "            m = m-1\n",
    "            \n",
    "        binary_string = ''.join(rev_arr)\n",
    "        int_number = int(binary_string, 2)\n",
    "        #print(int_number)\n",
    "        \n",
    "        recon_im[i,j//8,1] = int_number\n",
    "\n",
    "cv2.imwrite('64_plus_bp.png',recon_im)"
   ]
  },
  {
   "cell_type": "code",
   "execution_count": 12,
   "id": "5b494440",
   "metadata": {},
   "outputs": [
    {
     "data": {
      "text/plain": [
       "225"
      ]
     },
     "execution_count": 12,
     "metadata": {},
     "output_type": "execute_result"
    }
   ],
   "source": [
    "cv2.namedWindow(\"Recon\", cv2.WINDOW_NORMAL)\n",
    "cv2.resizeWindow(\"Recon\", 900, 900)\n",
    "cv2.imshow('Recon', recon_im)\n",
    "cv2.waitKey(15000)\n",
    "#cv2.destroyAllWindows()"
   ]
  }
 ],
 "metadata": {
  "kernelspec": {
   "display_name": "Python 3 (ipykernel)",
   "language": "python",
   "name": "python3"
  },
  "language_info": {
   "codemirror_mode": {
    "name": "ipython",
    "version": 3
   },
   "file_extension": ".py",
   "mimetype": "text/x-python",
   "name": "python",
   "nbconvert_exporter": "python",
   "pygments_lexer": "ipython3",
   "version": "3.10.12"
  }
 },
 "nbformat": 4,
 "nbformat_minor": 5
}
